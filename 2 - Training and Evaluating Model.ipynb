{
 "cells": [
  {
   "cell_type": "code",
   "execution_count": 4,
   "id": "8bb167eb",
   "metadata": {
    "scrolled": false
   },
   "outputs": [
    {
     "name": "stderr",
     "output_type": "stream",
     "text": [
      "GPU available: False, used: False\n",
      "TPU available: False, using: 0 TPU cores\n",
      "IPU available: False, using: 0 IPUs\n",
      "\n",
      "  | Name    | Type       | Params\n",
      "---------------------------------------\n",
      "0 | conv1   | Sequential | 1.6 K \n",
      "1 | conv2   | Sequential | 18.5 K\n",
      "2 | conv3   | Sequential | 55.5 K\n",
      "3 | fc1     | Linear     | 1.9 M \n",
      "4 | dropfc1 | Dropout    | 0     \n",
      "5 | fc2     | Linear     | 774   \n",
      "---------------------------------------\n",
      "2.0 M     Trainable params\n",
      "0         Non-trainable params\n",
      "2.0 M     Total params\n",
      "7.974     Total estimated model params size (MB)\n"
     ]
    },
    {
     "name": "stdout",
     "output_type": "stream",
     "text": [
      "Epoch 0: 100%|███████████████████████████████████████████████████████████████████████████| 4/4 [00:02<00:00,  1.79it/s]\n",
      "Validating: 0it [00:00, ?it/s]\u001b[A\n",
      "Validating:   0%|                                                                                | 0/2 [00:00<?, ?it/s]\u001b[A\n",
      "Epoch 0: 100%|██████████████████████████████████████████████████████| 4/4 [00:03<00:00,  1.39it/s, loss=-16.7, v_num=5]\u001b[A\n",
      "Epoch 0: 100%|██████████████████████████████████████████████████████| 4/4 [00:03<00:00,  1.37it/s, loss=-16.7, v_num=5]\u001b[A"
     ]
    },
    {
     "name": "stderr",
     "output_type": "stream",
     "text": [
      "C:\\Users\\s441606\\.conda\\envs\\pytorch\\lib\\site-packages\\pytorch_lightning\\trainer\\data_loading.py:106: UserWarning: The dataloader, test dataloader 0, does not have many workers which may be a bottleneck. Consider increasing the value of the `num_workers` argument` (try 8 which is the number of cpus on this machine) in the `DataLoader` init to improve performance.\n",
      "  f\"The dataloader, {name}, does not have many workers which may be a bottleneck.\"\n"
     ]
    },
    {
     "name": "stdout",
     "output_type": "stream",
     "text": [
      "\n",
      "Testing: 100%|███████████████████████████████████████████████████████████████████████████| 2/2 [00:00<00:00,  2.48it/s]--------------------------------------------------------------------------------\n",
      "DATALOADER:0 TEST RESULTS\n",
      "{}\n",
      "--------------------------------------------------------------------------------\n",
      "Testing: 100%|███████████████████████████████████████████████████████████████████████████| 2/2 [00:00<00:00,  2.47it/s]\n"
     ]
    },
    {
     "data": {
      "text/plain": [
       "[{}]"
      ]
     },
     "execution_count": 4,
     "metadata": {},
     "output_type": "execute_result"
    }
   ],
   "source": [
    "from KTH_DataModule import KTH_DataModule\n",
    "from KTH_VideoBlockClassifier import KTH_VideoBlockClassifier\n",
    "import pytorch_lightning as pl\n",
    "\n",
    "data_module = KTH_DataModule(directory='C:/Users/s441606/Documents/Videos/KTHB')\n",
    "\n",
    "model = KTH_VideoBlockClassifier()\n",
    "\n",
    "trainer = pl.Trainer(max_epochs=1,progress_bar_refresh_rate=20)\n",
    "\n",
    "trainer.fit(model, data_module)\n",
    "\n",
    "trainer.test(model,data_module)"
   ]
  },
  {
   "cell_type": "code",
   "execution_count": 5,
   "id": "852a5ac5",
   "metadata": {},
   "outputs": [
    {
     "data": {
      "text/html": [
       "\n",
       "      <iframe id=\"tensorboard-frame-67605c46438030b1\" width=\"100%\" height=\"800\" frameborder=\"0\">\n",
       "      </iframe>\n",
       "      <script>\n",
       "        (function() {\n",
       "          const frame = document.getElementById(\"tensorboard-frame-67605c46438030b1\");\n",
       "          const url = new URL(\"/\", window.location);\n",
       "          const port = 6006;\n",
       "          if (port) {\n",
       "            url.port = port;\n",
       "          }\n",
       "          frame.src = url;\n",
       "        })();\n",
       "      </script>\n",
       "    "
      ],
      "text/plain": [
       "<IPython.core.display.HTML object>"
      ]
     },
     "metadata": {},
     "output_type": "display_data"
    }
   ],
   "source": [
    "%load_ext tensorboard\n",
    "%tensorboard --logdir lightning_logs/"
   ]
  }
 ],
 "metadata": {
  "kernelspec": {
   "display_name": "pytorch",
   "language": "python",
   "name": "pytorch"
  },
  "language_info": {
   "codemirror_mode": {
    "name": "ipython",
    "version": 3
   },
   "file_extension": ".py",
   "mimetype": "text/x-python",
   "name": "python",
   "nbconvert_exporter": "python",
   "pygments_lexer": "ipython3",
   "version": "3.7.11"
  },
  "toc": {
   "base_numbering": 1,
   "nav_menu": {},
   "number_sections": false,
   "sideBar": true,
   "skip_h1_title": false,
   "title_cell": "Table of Contents",
   "title_sidebar": "Contents",
   "toc_cell": false,
   "toc_position": {},
   "toc_section_display": true,
   "toc_window_display": false
  }
 },
 "nbformat": 4,
 "nbformat_minor": 5
}
